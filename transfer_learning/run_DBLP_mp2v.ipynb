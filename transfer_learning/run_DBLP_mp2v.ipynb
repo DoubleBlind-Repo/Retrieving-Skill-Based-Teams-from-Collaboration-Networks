{
 "cells": [
  {
   "cell_type": "code",
   "execution_count": 7,
   "metadata": {},
   "outputs": [],
   "source": [
    "import matplotlib.pyplot as plt\n",
    "from sklearn.manifold import TSNE\n",
    "from sklearn.decomposition import PCA\n",
    "import os\n",
    "import networkx as nx\n",
    "import numpy as np\n",
    "import pandas as pd\n",
    "import pickle\n",
    "from stellargraph import datasets\n",
    "from IPython.display import display, HTML\n",
    "%matplotlib inline\n",
    "from gensim.models import Word2Vec\n",
    "from sklearn.preprocessing import normalize\n",
    "from stellargraph.data import UniformRandomMetaPathWalk\n",
    "from stellargraph import StellarGraph \n",
    "import multiprocessing\n",
    "import matplotlib.pyplot as plt\n",
    "from joblib import Parallel,delayed\n",
    "from tqdm import tqdm"
   ]
  },
  {
   "cell_type": "code",
   "execution_count": 8,
   "metadata": {},
   "outputs": [],
   "source": [
    "metapaths = [\n",
    "    [\"author\", \"paper\", \"author\"],\n",
    "    [\"author\", \"paper\", \"term\", \"paper\", \"author\"],\n",
    "    [\"author\", \"paper\", \"conf\", \"paper\", \"author\"],\n",
    "]\n",
    "\n",
    "\n",
    "model_save_path = 'model_save_dir'\n",
    "if not os.path.exists(model_save_path):\n",
    "    os.mkdir(model_save_path)\n",
    "model_save_path = os.path.join(model_save_path,'DBLP')\n",
    "if not os.path.exists(model_save_path):\n",
    "    os.mkdir(model_save_path)\n",
    "    \n",
    "    \n",
    "model_use_data_DIR = 'model_use_data'\n",
    "if not os.path.exists(model_use_data_DIR):\n",
    "    os.mkdir(model_use_data_DIR)\n",
    "model_use_data_DIR = os.path.join(model_use_data_DIR,'DBLP')\n",
    "if not os.path.exists(model_use_data_DIR):\n",
    "    os.mkdir(model_use_data_DIR)\n",
    "    \n",
    "walk_length = 64\n",
    "num_walks_per_node = 40\n",
    "emb_dim = 256\n",
    "emb_fpath = os.path.join(model_save_path, 'mp2v_{}_{}_{}.npy'.format(emb_dim,num_walks_per_node,walk_length))\n",
    "\n"
   ]
  },
  {
   "cell_type": "code",
   "execution_count": 9,
   "metadata": {},
   "outputs": [],
   "source": [
    "src_dir = './dblp/processed_data/'\n",
    "\n",
    "nodes_author_df = pd.read_csv(\n",
    "    os.path.join(\n",
    "        src_dir,\n",
    "        'nodes_author.csv'),\n",
    "    index_col = 0\n",
    ")\n",
    "nodes_paper_df = pd.read_csv(\n",
    "    os.path.join(\n",
    "        src_dir,\n",
    "        'nodes_paper.csv'),\n",
    "    index_col = 0\n",
    ")\n",
    "nodes_term_df = pd.read_csv(\n",
    "    os.path.join(\n",
    "        src_dir,\n",
    "        'nodes_term.csv'),\n",
    "    index_col = 0\n",
    ")\n",
    "nodes_conf_df = pd.read_csv(\n",
    "    os.path.join(\n",
    "        src_dir,\n",
    "        'nodes_conf.csv'),\n",
    "    index_col = 0\n",
    ")\n",
    "\n",
    "\n",
    "fpath_list = ['PT_edges.csv','PC_edges.csv','PA_edges.csv']\n",
    "df_edges = None\n",
    "for fpath in fpath_list:\n",
    "    _df = pd.read_csv( os.path.join(src_dir,fpath), index_col = None )\n",
    "    if df_edges is None : df_edges = _df\n",
    "    else:\n",
    "        df_edges = df_edges.append(_df,ignore_index= True)\n"
   ]
  },
  {
   "cell_type": "code",
   "execution_count": 10,
   "metadata": {},
   "outputs": [],
   "source": [
    "\n",
    "graph_obj = StellarGraph({\n",
    "    \"author\": nodes_author_df, \n",
    "    \"paper\":nodes_paper_df,\n",
    "    \"term\": nodes_term_df,\n",
    "    \"conf\": nodes_conf_df\n",
    "},\n",
    "    df_edges\n",
    ")"
   ]
  },
  {
   "cell_type": "code",
   "execution_count": 30,
   "metadata": {},
   "outputs": [
    {
     "name": "stdout",
     "output_type": "stream",
     "text": [
      "301369\n",
      "16.076014189315337\n"
     ]
    }
   ],
   "source": [
    "print(len(graph_obj.edges()))\n",
    "print(np.mean(list(graph_obj.node_degrees().values())))"
   ]
  },
  {
   "cell_type": "code",
   "execution_count": 11,
   "metadata": {},
   "outputs": [],
   "source": [
    "# walks = rw.run(\n",
    "#     nodes=list(g.nodes()),  # root nodes\n",
    "#     length=walk_length,  # maximum length of a random walk\n",
    "#     n=1,  # number of random walks per root node\n",
    "#     metapaths=metapaths,  # the metapaths\n",
    "# )"
   ]
  },
  {
   "cell_type": "code",
   "execution_count": 12,
   "metadata": {},
   "outputs": [],
   "source": [
    "def generate_random_walks(graph_obj , num_walks_per_node, walk_length, metapaths):\n",
    "    random_walk_object = UniformRandomMetaPathWalk(graph_obj)\n",
    "    cpu_count = multiprocessing.cpu_count()\n",
    "    list_nodes = list(graph_obj.nodes())\n",
    "    num_chunks = cpu_count\n",
    "    chunk_len = (len(list_nodes)//num_chunks)\n",
    "    chunks = [list_nodes[i*chunk_len: (i+1)*chunk_len ] for i in range(0, num_chunks+1)]\n",
    "    \n",
    "    res =  Parallel(n_jobs=cpu_count)(\n",
    "        delayed(aux_gen_walks)(\n",
    "            node_chunk, walk_length, random_walk_object, metapaths, num_walks_per_node \n",
    "        ) \n",
    "        for node_chunk in chunks\n",
    "    )\n",
    "    \n",
    "    all_walks = []\n",
    "    for r in res:\n",
    "        all_walks.extend(r)\n",
    "    return all_walks\n",
    "\n",
    "def aux_gen_walks(\n",
    "    node_chunk, \n",
    "    walk_length, \n",
    "    random_walk_object,\n",
    "    metapaths = None,\n",
    "    num_walks = 1\n",
    "):\n",
    "    walks = random_walk_object.run(\n",
    "        nodes=node_chunk,\n",
    "        length=walk_length,\n",
    "        n=num_walks,\n",
    "        metapaths=metapaths\n",
    "    )\n",
    "    return walks"
   ]
  },
  {
   "cell_type": "code",
   "execution_count": 13,
   "metadata": {},
   "outputs": [
    {
     "name": "stdout",
     "output_type": "stream",
     "text": [
      "Number of random walks: 296400\n"
     ]
    }
   ],
   "source": [
    "\n",
    "walks_save_file = \"mp2v_random_walks_{}_{}.npy\".format(walk_length, num_walks_per_node)\n",
    "walks_save_file = os.path.join(model_use_data_DIR, walks_save_file)\n",
    "try:\n",
    "    walks_np_arr = np.load( walks_save_file )\n",
    "    walks = [ list(_) for _ in walks_np_arr]\n",
    "except:\n",
    "    walks = generate_random_walks(graph_obj, num_walks_per_node, walk_length, metapaths)\n",
    "    walks_np_arr = np.array(walks)\n",
    "    np.save( walks_save_file, walks_np_arr)\n",
    "\n",
    "print(\"Number of random walks: {}\".format(len(walks)))\n"
   ]
  },
  {
   "cell_type": "code",
   "execution_count": 14,
   "metadata": {},
   "outputs": [],
   "source": [
    "str_walks = [[str(n) for n in walk] for walk in walks]"
   ]
  },
  {
   "cell_type": "code",
   "execution_count": 15,
   "metadata": {},
   "outputs": [
    {
     "name": "stderr",
     "output_type": "stream",
     "text": [
      "  2%|▏         | 1/60 [00:08<08:34,  8.72s/it]"
     ]
    },
    {
     "name": "stdout",
     "output_type": "stream",
     "text": [
      ">>  0  Loss::  128909.1953125 0.5\n"
     ]
    },
    {
     "name": "stderr",
     "output_type": "stream",
     "text": [
      "\r",
      "  3%|▎         | 2/60 [00:17<08:25,  8.71s/it]"
     ]
    },
    {
     "name": "stdout",
     "output_type": "stream",
     "text": [
      ">>  1  Loss::  11394.53125 0.49168333333333336\n"
     ]
    },
    {
     "name": "stderr",
     "output_type": "stream",
     "text": [
      "\r",
      "  5%|▌         | 3/60 [00:26<08:14,  8.68s/it]"
     ]
    },
    {
     "name": "stdout",
     "output_type": "stream",
     "text": [
      ">>  2  Loss::  6652.9892578125 0.4833666666666667\n"
     ]
    },
    {
     "name": "stderr",
     "output_type": "stream",
     "text": [
      "\r",
      "  7%|▋         | 4/60 [00:34<08:05,  8.66s/it]"
     ]
    },
    {
     "name": "stdout",
     "output_type": "stream",
     "text": [
      ">>  3  Loss::  5005.93701171875 0.4750500000000001\n"
     ]
    },
    {
     "name": "stderr",
     "output_type": "stream",
     "text": [
      "\r",
      "  8%|▊         | 5/60 [00:43<07:56,  8.66s/it]"
     ]
    },
    {
     "name": "stdout",
     "output_type": "stream",
     "text": [
      ">>  4  Loss::  3903.59130859375 0.46673333333333344\n"
     ]
    },
    {
     "name": "stderr",
     "output_type": "stream",
     "text": [
      "\r",
      " 10%|█         | 6/60 [00:52<07:48,  8.67s/it]"
     ]
    },
    {
     "name": "stdout",
     "output_type": "stream",
     "text": [
      ">>  5  Loss::  2997.712158203125 0.4584166666666668\n"
     ]
    },
    {
     "name": "stderr",
     "output_type": "stream",
     "text": [
      "\r",
      " 12%|█▏        | 7/60 [01:00<07:39,  8.67s/it]"
     ]
    },
    {
     "name": "stdout",
     "output_type": "stream",
     "text": [
      ">>  6  Loss::  2675.649169921875 0.45010000000000017\n"
     ]
    },
    {
     "name": "stderr",
     "output_type": "stream",
     "text": [
      "\r",
      " 13%|█▎        | 8/60 [01:09<07:30,  8.66s/it]"
     ]
    },
    {
     "name": "stdout",
     "output_type": "stream",
     "text": [
      ">>  7  Loss::  2235.735595703125 0.4417833333333335\n"
     ]
    },
    {
     "name": "stderr",
     "output_type": "stream",
     "text": [
      "\r",
      " 15%|█▌        | 9/60 [01:18<07:21,  8.66s/it]"
     ]
    },
    {
     "name": "stdout",
     "output_type": "stream",
     "text": [
      ">>  8  Loss::  1957.077880859375 0.4334666666666669\n"
     ]
    },
    {
     "name": "stderr",
     "output_type": "stream",
     "text": [
      "\r",
      " 17%|█▋        | 10/60 [01:26<07:13,  8.67s/it]"
     ]
    },
    {
     "name": "stdout",
     "output_type": "stream",
     "text": [
      ">>  9  Loss::  2076.942138671875 0.42515000000000025\n"
     ]
    },
    {
     "name": "stderr",
     "output_type": "stream",
     "text": [
      "\r",
      " 18%|█▊        | 11/60 [01:35<07:04,  8.67s/it]"
     ]
    },
    {
     "name": "stdout",
     "output_type": "stream",
     "text": [
      ">>  10  Loss::  1556.505859375 0.4168333333333336\n"
     ]
    },
    {
     "name": "stderr",
     "output_type": "stream",
     "text": [
      "\r",
      " 20%|██        | 12/60 [01:44<06:56,  8.67s/it]"
     ]
    },
    {
     "name": "stdout",
     "output_type": "stream",
     "text": [
      ">>  11  Loss::  1659.4661865234375 0.40851666666666697\n"
     ]
    },
    {
     "name": "stderr",
     "output_type": "stream",
     "text": [
      "\r",
      " 22%|██▏       | 13/60 [01:52<06:47,  8.67s/it]"
     ]
    },
    {
     "name": "stdout",
     "output_type": "stream",
     "text": [
      ">>  12  Loss::  1468.7178955078125 0.40020000000000033\n"
     ]
    },
    {
     "name": "stderr",
     "output_type": "stream",
     "text": [
      "\r",
      " 23%|██▎       | 14/60 [02:01<06:39,  8.67s/it]"
     ]
    },
    {
     "name": "stdout",
     "output_type": "stream",
     "text": [
      ">>  13  Loss::  1476.2620849609375 0.3918833333333337\n"
     ]
    },
    {
     "name": "stderr",
     "output_type": "stream",
     "text": [
      "\r",
      " 25%|██▌       | 15/60 [02:10<06:30,  8.67s/it]"
     ]
    },
    {
     "name": "stdout",
     "output_type": "stream",
     "text": [
      ">>  14  Loss::  1332.80224609375 0.38356666666666706\n"
     ]
    },
    {
     "name": "stderr",
     "output_type": "stream",
     "text": [
      "\r",
      " 27%|██▋       | 16/60 [02:18<06:21,  8.66s/it]"
     ]
    },
    {
     "name": "stdout",
     "output_type": "stream",
     "text": [
      ">>  15  Loss::  1143.7080078125 0.3752500000000004\n"
     ]
    },
    {
     "name": "stderr",
     "output_type": "stream",
     "text": [
      "\r",
      " 28%|██▊       | 17/60 [02:27<06:12,  8.66s/it]"
     ]
    },
    {
     "name": "stdout",
     "output_type": "stream",
     "text": [
      ">>  16  Loss::  1315.444091796875 0.3669333333333338\n"
     ]
    },
    {
     "name": "stderr",
     "output_type": "stream",
     "text": [
      "\r",
      " 30%|███       | 18/60 [02:36<06:04,  8.67s/it]"
     ]
    },
    {
     "name": "stdout",
     "output_type": "stream",
     "text": [
      ">>  17  Loss::  1063.12060546875 0.35861666666666714\n"
     ]
    },
    {
     "name": "stderr",
     "output_type": "stream",
     "text": [
      "\r",
      " 32%|███▏      | 19/60 [02:44<05:55,  8.67s/it]"
     ]
    },
    {
     "name": "stdout",
     "output_type": "stream",
     "text": [
      ">>  18  Loss::  1099.2347412109375 0.3503000000000005\n"
     ]
    },
    {
     "name": "stderr",
     "output_type": "stream",
     "text": [
      "\r",
      " 33%|███▎      | 20/60 [02:53<05:47,  8.68s/it]"
     ]
    },
    {
     "name": "stdout",
     "output_type": "stream",
     "text": [
      ">>  19  Loss::  1159.6959228515625 0.34198333333333386\n"
     ]
    },
    {
     "name": "stderr",
     "output_type": "stream",
     "text": [
      "\r",
      " 35%|███▌      | 21/60 [03:02<05:38,  8.68s/it]"
     ]
    },
    {
     "name": "stdout",
     "output_type": "stream",
     "text": [
      ">>  20  Loss::  1114.4464111328125 0.3336666666666672\n"
     ]
    },
    {
     "name": "stderr",
     "output_type": "stream",
     "text": [
      "\r",
      " 37%|███▋      | 22/60 [03:10<05:29,  8.67s/it]"
     ]
    },
    {
     "name": "stdout",
     "output_type": "stream",
     "text": [
      ">>  21  Loss::  1102.7003173828125 0.3253500000000006\n"
     ]
    },
    {
     "name": "stderr",
     "output_type": "stream",
     "text": [
      "\r",
      " 38%|███▊      | 23/60 [03:19<05:20,  8.67s/it]"
     ]
    },
    {
     "name": "stdout",
     "output_type": "stream",
     "text": [
      ">>  22  Loss::  982.0811767578125 0.31703333333333394\n"
     ]
    },
    {
     "name": "stderr",
     "output_type": "stream",
     "text": [
      "\r",
      " 40%|████      | 24/60 [03:28<05:11,  8.66s/it]"
     ]
    },
    {
     "name": "stdout",
     "output_type": "stream",
     "text": [
      ">>  23  Loss::  910.0264282226562 0.3087166666666673\n"
     ]
    },
    {
     "name": "stderr",
     "output_type": "stream",
     "text": [
      "\r",
      " 42%|████▏     | 25/60 [03:36<05:03,  8.67s/it]"
     ]
    },
    {
     "name": "stdout",
     "output_type": "stream",
     "text": [
      ">>  24  Loss::  804.2100830078125 0.30040000000000067\n"
     ]
    },
    {
     "name": "stderr",
     "output_type": "stream",
     "text": [
      "\r",
      " 43%|████▎     | 26/60 [03:45<04:54,  8.67s/it]"
     ]
    },
    {
     "name": "stdout",
     "output_type": "stream",
     "text": [
      ">>  25  Loss::  777.9080200195312 0.292083333333334\n"
     ]
    },
    {
     "name": "stderr",
     "output_type": "stream",
     "text": [
      "\r",
      " 45%|████▌     | 27/60 [03:54<04:46,  8.68s/it]"
     ]
    },
    {
     "name": "stdout",
     "output_type": "stream",
     "text": [
      ">>  26  Loss::  897.8666381835938 0.2837666666666674\n"
     ]
    },
    {
     "name": "stderr",
     "output_type": "stream",
     "text": [
      "\r",
      " 47%|████▋     | 28/60 [04:03<04:41,  8.79s/it]"
     ]
    },
    {
     "name": "stdout",
     "output_type": "stream",
     "text": [
      ">>  27  Loss::  759.2384643554688 0.27545000000000075\n"
     ]
    },
    {
     "name": "stderr",
     "output_type": "stream",
     "text": [
      "\r",
      " 48%|████▊     | 29/60 [04:12<04:32,  8.80s/it]"
     ]
    },
    {
     "name": "stdout",
     "output_type": "stream",
     "text": [
      ">>  28  Loss::  931.9310913085938 0.2671333333333341\n"
     ]
    },
    {
     "name": "stderr",
     "output_type": "stream",
     "text": [
      "\r",
      " 50%|█████     | 30/60 [04:20<04:22,  8.76s/it]"
     ]
    },
    {
     "name": "stdout",
     "output_type": "stream",
     "text": [
      ">>  29  Loss::  860.747314453125 0.25881666666666747\n"
     ]
    },
    {
     "name": "stderr",
     "output_type": "stream",
     "text": [
      "\r",
      " 52%|█████▏    | 31/60 [04:29<04:13,  8.74s/it]"
     ]
    },
    {
     "name": "stdout",
     "output_type": "stream",
     "text": [
      ">>  30  Loss::  867.5943603515625 0.25050000000000083\n"
     ]
    },
    {
     "name": "stderr",
     "output_type": "stream",
     "text": [
      "\r",
      " 53%|█████▎    | 32/60 [04:38<04:04,  8.73s/it]"
     ]
    },
    {
     "name": "stdout",
     "output_type": "stream",
     "text": [
      ">>  31  Loss::  791.3754272460938 0.24218333333333417\n"
     ]
    },
    {
     "name": "stderr",
     "output_type": "stream",
     "text": [
      "\r",
      " 55%|█████▌    | 33/60 [04:46<03:55,  8.73s/it]"
     ]
    },
    {
     "name": "stdout",
     "output_type": "stream",
     "text": [
      ">>  32  Loss::  679.3552856445312 0.2338666666666675\n"
     ]
    },
    {
     "name": "stderr",
     "output_type": "stream",
     "text": [
      "\r",
      " 57%|█████▋    | 34/60 [04:55<03:46,  8.71s/it]"
     ]
    },
    {
     "name": "stdout",
     "output_type": "stream",
     "text": [
      ">>  33  Loss::  873.2122802734375 0.22555000000000083\n"
     ]
    },
    {
     "name": "stderr",
     "output_type": "stream",
     "text": [
      "\r",
      " 58%|█████▊    | 35/60 [05:04<03:37,  8.72s/it]"
     ]
    },
    {
     "name": "stdout",
     "output_type": "stream",
     "text": [
      ">>  34  Loss::  650.6174926757812 0.21723333333333417\n"
     ]
    },
    {
     "name": "stderr",
     "output_type": "stream",
     "text": [
      "\r",
      " 60%|██████    | 36/60 [05:12<03:28,  8.71s/it]"
     ]
    },
    {
     "name": "stdout",
     "output_type": "stream",
     "text": [
      ">>  35  Loss::  762.5008544921875 0.2089166666666675\n"
     ]
    },
    {
     "name": "stderr",
     "output_type": "stream",
     "text": [
      "\r",
      " 62%|██████▏   | 37/60 [05:21<03:19,  8.69s/it]"
     ]
    },
    {
     "name": "stdout",
     "output_type": "stream",
     "text": [
      ">>  36  Loss::  717.7901611328125 0.20060000000000083\n"
     ]
    },
    {
     "name": "stderr",
     "output_type": "stream",
     "text": [
      "\r",
      " 63%|██████▎   | 38/60 [05:30<03:10,  8.68s/it]"
     ]
    },
    {
     "name": "stdout",
     "output_type": "stream",
     "text": [
      ">>  37  Loss::  741.0516357421875 0.19228333333333417\n"
     ]
    },
    {
     "name": "stderr",
     "output_type": "stream",
     "text": [
      "\r",
      " 65%|██████▌   | 39/60 [05:38<03:02,  8.69s/it]"
     ]
    },
    {
     "name": "stdout",
     "output_type": "stream",
     "text": [
      ">>  38  Loss::  685.87255859375 0.1839666666666675\n"
     ]
    },
    {
     "name": "stderr",
     "output_type": "stream",
     "text": [
      "\r",
      " 67%|██████▋   | 40/60 [05:47<02:53,  8.69s/it]"
     ]
    },
    {
     "name": "stdout",
     "output_type": "stream",
     "text": [
      ">>  39  Loss::  714.6616821289062 0.17565000000000083\n"
     ]
    },
    {
     "name": "stderr",
     "output_type": "stream",
     "text": [
      "\r",
      " 68%|██████▊   | 41/60 [05:56<02:45,  8.69s/it]"
     ]
    },
    {
     "name": "stdout",
     "output_type": "stream",
     "text": [
      ">>  40  Loss::  651.721435546875 0.16733333333333417\n"
     ]
    },
    {
     "name": "stderr",
     "output_type": "stream",
     "text": [
      "\r",
      " 70%|███████   | 42/60 [06:04<02:36,  8.69s/it]"
     ]
    },
    {
     "name": "stdout",
     "output_type": "stream",
     "text": [
      ">>  41  Loss::  688.0272827148438 0.1590166666666675\n"
     ]
    },
    {
     "name": "stderr",
     "output_type": "stream",
     "text": [
      "\r",
      " 72%|███████▏  | 43/60 [06:13<02:27,  8.69s/it]"
     ]
    },
    {
     "name": "stdout",
     "output_type": "stream",
     "text": [
      ">>  42  Loss::  710.3096923828125 0.15070000000000083\n"
     ]
    },
    {
     "name": "stderr",
     "output_type": "stream",
     "text": [
      "\r",
      " 73%|███████▎  | 44/60 [06:22<02:19,  8.70s/it]"
     ]
    },
    {
     "name": "stdout",
     "output_type": "stream",
     "text": [
      ">>  43  Loss::  724.1976318359375 0.14238333333333417\n"
     ]
    },
    {
     "name": "stderr",
     "output_type": "stream",
     "text": [
      "\r",
      " 75%|███████▌  | 45/60 [06:31<02:10,  8.68s/it]"
     ]
    },
    {
     "name": "stdout",
     "output_type": "stream",
     "text": [
      ">>  44  Loss::  670.9089965820312 0.1340666666666675\n"
     ]
    },
    {
     "name": "stderr",
     "output_type": "stream",
     "text": [
      "\r",
      " 77%|███████▋  | 46/60 [06:39<02:01,  8.67s/it]"
     ]
    },
    {
     "name": "stdout",
     "output_type": "stream",
     "text": [
      ">>  45  Loss::  799.7042846679688 0.12575000000000083\n"
     ]
    },
    {
     "name": "stderr",
     "output_type": "stream",
     "text": [
      "\r",
      " 78%|███████▊  | 47/60 [06:48<01:52,  8.67s/it]"
     ]
    },
    {
     "name": "stdout",
     "output_type": "stream",
     "text": [
      ">>  46  Loss::  715.269287109375 0.11743333333333417\n"
     ]
    },
    {
     "name": "stderr",
     "output_type": "stream",
     "text": [
      "\r",
      " 80%|████████  | 48/60 [06:57<01:44,  8.67s/it]"
     ]
    },
    {
     "name": "stdout",
     "output_type": "stream",
     "text": [
      ">>  47  Loss::  722.02880859375 0.1091166666666675\n"
     ]
    },
    {
     "name": "stderr",
     "output_type": "stream",
     "text": [
      "\r",
      " 82%|████████▏ | 49/60 [07:05<01:35,  8.67s/it]"
     ]
    },
    {
     "name": "stdout",
     "output_type": "stream",
     "text": [
      ">>  48  Loss::  697.9761962890625 0.10080000000000083\n"
     ]
    },
    {
     "name": "stderr",
     "output_type": "stream",
     "text": [
      "\r",
      " 83%|████████▎ | 50/60 [07:14<01:26,  8.67s/it]"
     ]
    },
    {
     "name": "stdout",
     "output_type": "stream",
     "text": [
      ">>  49  Loss::  666.1499633789062 0.09248333333333417\n"
     ]
    },
    {
     "name": "stderr",
     "output_type": "stream",
     "text": [
      "\r",
      " 85%|████████▌ | 51/60 [07:23<01:18,  8.68s/it]"
     ]
    },
    {
     "name": "stdout",
     "output_type": "stream",
     "text": [
      ">>  50  Loss::  663.5596923828125 0.0841666666666675\n"
     ]
    },
    {
     "name": "stderr",
     "output_type": "stream",
     "text": [
      "\r",
      " 87%|████████▋ | 52/60 [07:31<01:09,  8.68s/it]"
     ]
    },
    {
     "name": "stdout",
     "output_type": "stream",
     "text": [
      ">>  51  Loss::  659.3944091796875 0.07585000000000083\n"
     ]
    },
    {
     "name": "stderr",
     "output_type": "stream",
     "text": [
      "\r",
      " 88%|████████▊ | 53/60 [07:40<01:00,  8.67s/it]"
     ]
    },
    {
     "name": "stdout",
     "output_type": "stream",
     "text": [
      ">>  52  Loss::  627.8551025390625 0.06753333333333417\n"
     ]
    },
    {
     "name": "stderr",
     "output_type": "stream",
     "text": [
      "\r",
      " 90%|█████████ | 54/60 [07:49<00:52,  8.68s/it]"
     ]
    },
    {
     "name": "stdout",
     "output_type": "stream",
     "text": [
      ">>  53  Loss::  684.50732421875 0.0592166666666675\n"
     ]
    },
    {
     "name": "stderr",
     "output_type": "stream",
     "text": [
      "\r",
      " 92%|█████████▏| 55/60 [07:57<00:43,  8.69s/it]"
     ]
    },
    {
     "name": "stdout",
     "output_type": "stream",
     "text": [
      ">>  54  Loss::  725.2025756835938 0.05090000000000083\n"
     ]
    },
    {
     "name": "stderr",
     "output_type": "stream",
     "text": [
      "\r",
      " 93%|█████████▎| 56/60 [08:06<00:34,  8.67s/it]"
     ]
    },
    {
     "name": "stdout",
     "output_type": "stream",
     "text": [
      ">>  55  Loss::  675.4561157226562 0.04258333333333417\n"
     ]
    },
    {
     "name": "stderr",
     "output_type": "stream",
     "text": [
      "\r",
      " 95%|█████████▌| 57/60 [08:15<00:26,  8.68s/it]"
     ]
    },
    {
     "name": "stdout",
     "output_type": "stream",
     "text": [
      ">>  56  Loss::  710.4968872070312 0.0342666666666675\n"
     ]
    },
    {
     "name": "stderr",
     "output_type": "stream",
     "text": [
      "\r",
      " 97%|█████████▋| 58/60 [08:23<00:17,  8.67s/it]"
     ]
    },
    {
     "name": "stdout",
     "output_type": "stream",
     "text": [
      ">>  57  Loss::  693.5601806640625 0.025950000000000834\n"
     ]
    },
    {
     "name": "stderr",
     "output_type": "stream",
     "text": [
      "\r",
      " 98%|█████████▊| 59/60 [08:32<00:08,  8.66s/it]"
     ]
    },
    {
     "name": "stdout",
     "output_type": "stream",
     "text": [
      ">>  58  Loss::  614.7020263671875 0.017633333333334167\n"
     ]
    },
    {
     "name": "stderr",
     "output_type": "stream",
     "text": [
      "100%|██████████| 60/60 [08:41<00:00,  8.69s/it]"
     ]
    },
    {
     "name": "stdout",
     "output_type": "stream",
     "text": [
      ">>  59  Loss::  587.177490234375 0.0093166666666675\n"
     ]
    },
    {
     "name": "stderr",
     "output_type": "stream",
     "text": [
      "\n"
     ]
    }
   ],
   "source": [
    "if not os.path.exists(emb_fpath):\n",
    "    \n",
    "    word2vec_params = {\n",
    "       'sg': 0, \n",
    "       \"size\": emb_dim,\n",
    "       \"alpha\": 0.5,\n",
    "       \"min_alpha\": 0.001,\n",
    "       'window':5,\n",
    "       'min_count': 0,\n",
    "       \"workers\": multiprocessing.cpu_count(),\n",
    "       \"negative\": 1,\n",
    "       \"hs\": 0,  # 0: negative sampling, 1:hierarchical  softmax\n",
    "       'compute_loss': True,\n",
    "       'iter': 10,\n",
    "       'cbow_mean':1,\n",
    "    }\n",
    "\n",
    "    iters = 60\n",
    "    mp2v_model = Word2Vec(**word2vec_params)\n",
    "    mp2v_model.build_vocab(str_walks)\n",
    "    losses = []\n",
    "    learning_rate = 0.5\n",
    "    step_size = (0.5 - 0.001) / iters\n",
    "    \n",
    "    \n",
    "    for i in tqdm(range(iters)):\n",
    "        trained_word_count, raw_word_count = mp2v_model.train(\n",
    "            str_walks, \n",
    "            compute_loss=True,\n",
    "            start_alpha=learning_rate,\n",
    "            end_alpha=learning_rate,\n",
    "            total_examples=mp2v_model.corpus_count,\n",
    "            epochs=1\n",
    "        )\n",
    "        loss = mp2v_model.get_latest_training_loss()\n",
    "        losses.append(loss)\n",
    "        print('>> ', i, ' Loss:: ', loss, learning_rate)\n",
    "        learning_rate -= step_size\n",
    "    \n",
    "    # ======== Save node weights ============ #\n",
    "    node_embeddings = []\n",
    "    for i in range(len(graph_obj.nodes())):\n",
    "        vec = mp2v_model.wv[str(i)]\n",
    "        node_embeddings.append(vec)\n",
    "\n",
    "    node_embeddings = np.array(node_embeddings)\n",
    "    np.save(emb_fpath, node_embeddings )\n",
    "else:\n",
    "    node_embeddings =  np.load(emb_fpath)\n",
    "    "
   ]
  },
  {
   "cell_type": "code",
   "execution_count": null,
   "metadata": {},
   "outputs": [],
   "source": []
  },
  {
   "cell_type": "code",
   "execution_count": 16,
   "metadata": {},
   "outputs": [
    {
     "data": {
      "text/plain": [
       "37493"
      ]
     },
     "execution_count": 16,
     "metadata": {},
     "output_type": "execute_result"
    }
   ],
   "source": [
    "len(graph_obj.nodes())"
   ]
  },
  {
   "cell_type": "code",
   "execution_count": 17,
   "metadata": {},
   "outputs": [],
   "source": [
    "entity_id_mapping = pd.read_csv(src_dir + 'entity_id_mapping.csv')"
   ]
  },
  {
   "cell_type": "code",
   "execution_count": 21,
   "metadata": {},
   "outputs": [],
   "source": [
    "# normalization, embedding to 512, different metapathes"
   ]
  },
  {
   "cell_type": "code",
   "execution_count": 18,
   "metadata": {},
   "outputs": [],
   "source": [
    "node_embeddings_normalized = normalize(node_embeddings, axis=1, norm='l1')"
   ]
  },
  {
   "cell_type": "code",
   "execution_count": 19,
   "metadata": {},
   "outputs": [],
   "source": [
    "embedding_dict = {'user': {}, 'skill': {}}\n",
    "for i, row in entity_id_mapping.iterrows():\n",
    "    if row['domain'] == 'author':\n",
    "        embedding_dict['user'].update({row['entity_id']: node_embeddings_normalized[row['serial_id']]})  \n",
    "    elif row['domain'] == 'term':\n",
    "        embedding_dict['skill'].update({row['entity_id']: node_embeddings_normalized[row['serial_id']]}) \n",
    "pickle.dump(embedding_dict, open(model_save_path + '/embedding_dict.pkl', 'wb'))"
   ]
  },
  {
   "cell_type": "code",
   "execution_count": 20,
   "metadata": {},
   "outputs": [
    {
     "data": {
      "text/plain": [
       "array([-3.05167632e-03,  4.73983074e-03,  9.94383474e-04, -2.15707556e-03,\n",
       "       -6.05775462e-03,  6.03964413e-03,  6.72149705e-03, -3.27874697e-03,\n",
       "        1.68538466e-03,  1.16507767e-03, -1.37406343e-03, -4.85481881e-03,\n",
       "       -7.32995759e-05,  3.48904775e-03, -4.40416997e-03, -2.82393838e-03,\n",
       "       -1.13354623e-03,  9.17123817e-03, -1.20071750e-02,  4.54859668e-03,\n",
       "        4.31495393e-03, -5.36915846e-03,  1.07770795e-02,  1.00268715e-03,\n",
       "       -8.63517867e-04, -7.60433683e-03, -8.36704276e-04, -3.32803396e-03,\n",
       "        4.51303460e-03, -3.12098558e-03, -8.83104000e-03, -9.06815476e-05,\n",
       "       -1.54104666e-03,  1.30715221e-02,  2.97615887e-03, -1.12869975e-03,\n",
       "        3.60807707e-03,  6.34352025e-03, -3.28637683e-03,  1.40872679e-03,\n",
       "       -4.20864299e-03,  4.18199878e-03,  5.13782678e-03,  6.40052557e-03,\n",
       "        4.78941668e-03, -2.94147385e-03,  4.21926175e-04,  5.68236085e-03,\n",
       "        2.10319809e-03, -2.90189940e-03,  4.31741681e-03,  1.47889624e-03,\n",
       "       -1.90419366e-03,  2.13947007e-03,  1.11396071e-02,  4.99144755e-03,\n",
       "        8.19678232e-03,  1.87248574e-03,  6.77962787e-04, -4.19376558e-03,\n",
       "        5.59560722e-03,  1.96799310e-03,  3.00695049e-03, -8.13440420e-04,\n",
       "       -1.23642106e-03,  9.41502396e-03,  3.86929326e-03,  8.39846907e-04,\n",
       "        5.50007680e-03,  1.58806983e-03,  1.53521146e-03,  5.76533552e-04,\n",
       "       -1.35084148e-03,  1.91161095e-03,  8.41782487e-04,  1.12789264e-02,\n",
       "        7.55709736e-03,  3.80905648e-03, -2.64479988e-03,  1.71798922e-03,\n",
       "       -8.09697714e-03,  4.74790577e-03,  5.33745997e-03,  3.11199971e-03,\n",
       "       -2.66869739e-03,  5.33646496e-04, -2.27422825e-05,  1.14386017e-02,\n",
       "       -4.00721183e-04, -6.35457179e-03, -2.84855749e-04,  5.99717302e-03,\n",
       "       -3.33445123e-03,  1.94551668e-03,  5.71488030e-03, -7.06589082e-03,\n",
       "       -3.55176791e-03,  6.20310334e-03,  3.54740745e-03, -9.21779126e-03,\n",
       "        4.23738034e-03, -4.18892270e-03, -3.16979131e-03, -4.54495614e-03,\n",
       "        1.77039730e-03, -1.78338331e-03, -2.81864661e-03, -7.60393916e-03,\n",
       "       -4.48462414e-03, -2.45495146e-04,  5.35804825e-03, -5.85610885e-03,\n",
       "       -4.93198575e-04, -8.07739608e-03, -2.03772518e-03,  3.81824817e-03,\n",
       "        6.33986201e-03,  2.27292255e-03, -2.64380872e-03,  7.42489612e-03,\n",
       "        2.98407301e-03,  2.76526553e-03, -5.69020980e-04, -7.82106537e-04,\n",
       "        1.25919248e-03, -4.35371604e-03, -3.89814522e-04,  1.30189967e-03,\n",
       "       -2.36034510e-03,  6.79409876e-03,  4.52867290e-03, -4.51904675e-03,\n",
       "       -2.55057192e-03, -7.39623513e-03,  1.05469190e-02, -2.26406008e-03,\n",
       "        1.96807832e-03, -6.23652106e-03,  4.63321013e-03,  2.67256913e-03,\n",
       "       -3.08804074e-03, -3.33391181e-05,  2.21087900e-03,  3.58736445e-03,\n",
       "        3.11702210e-03, -3.52975534e-04,  3.04268673e-03,  1.07815606e-04,\n",
       "       -6.03780337e-03, -2.94266967e-03, -6.50052330e-04,  7.67502375e-03,\n",
       "       -5.89318748e-04,  3.13444389e-03,  2.37412844e-03, -3.78414610e-04,\n",
       "        2.77647097e-03,  2.97799031e-03, -2.63681659e-03, -4.46052261e-04,\n",
       "        4.87306388e-03,  6.96895178e-03,  2.13125371e-03,  2.62980768e-03,\n",
       "       -1.47789298e-03,  2.34847376e-03, -6.04245998e-03, -8.03296280e-04,\n",
       "        6.18958427e-03,  4.51048138e-03,  3.72117874e-03,  4.35989350e-03,\n",
       "       -3.87610402e-03, -5.34870895e-03,  3.97775183e-03, -5.33569418e-03,\n",
       "        2.68769660e-03, -2.44571920e-03,  5.66497492e-03, -1.27888452e-02,\n",
       "       -7.63380155e-03,  7.95313716e-03, -5.01840794e-03, -9.06283385e-04,\n",
       "       -1.52901292e-03, -2.75777420e-03,  4.86564077e-03,  2.99155456e-03,\n",
       "        7.83222727e-03,  2.23215041e-03,  1.11134956e-03,  3.65866767e-03,\n",
       "        1.82193890e-03,  1.17327916e-02, -6.67691056e-04, -6.92335423e-03,\n",
       "       -2.94881617e-03,  1.37002976e-03, -1.31025654e-03,  2.31909356e-03,\n",
       "        5.05760359e-03, -2.33974337e-04, -1.49467471e-03,  7.83419353e-04,\n",
       "        6.30833255e-03, -1.62709074e-03,  4.54725139e-03, -5.89280971e-04,\n",
       "        6.98758755e-03,  1.79060258e-03, -1.16641773e-03, -5.40682161e-03,\n",
       "        2.23090942e-03, -1.10436156e-02,  5.95984049e-04,  6.72641536e-03,\n",
       "        8.81355256e-03, -5.81167452e-03,  6.46191789e-03, -7.24293245e-03,\n",
       "       -4.90552047e-04,  2.36516003e-04, -2.44787685e-03,  1.15641644e-02,\n",
       "       -1.57836988e-03,  3.76750459e-03, -6.38692407e-03, -1.12780854e-02,\n",
       "       -1.70100282e-03, -2.94469530e-03,  2.33326596e-03,  8.15534778e-03,\n",
       "       -4.11599781e-03, -3.59489117e-03,  7.93011487e-03, -4.24960599e-04,\n",
       "        1.74240104e-03, -1.40136783e-03,  6.61903759e-03, -6.98599673e-04,\n",
       "       -6.95473980e-03,  8.97013640e-04,  3.56770284e-03, -4.55865311e-03,\n",
       "       -7.32525438e-03,  2.46997224e-03,  2.86131864e-03,  2.80981883e-03,\n",
       "        1.93275996e-02, -1.21691229e-03, -1.33379258e-03, -7.70254852e-03,\n",
       "       -2.07884074e-03, -7.28589424e-04, -3.16128554e-03,  4.60258080e-03],\n",
       "      dtype=float32)"
      ]
     },
     "execution_count": 20,
     "metadata": {},
     "output_type": "execute_result"
    }
   ],
   "source": [
    "embedding_dict.get('user')[5]"
   ]
  },
  {
   "cell_type": "code",
   "execution_count": 22,
   "metadata": {},
   "outputs": [],
   "source": [
    "tsne = TSNE(\n",
    "    n_components=2, \n",
    "    perplexity = 30.0, \n",
    "    early_exaggeration=25.0, \n",
    "    learning_rate=250\n",
    ")\n",
    "node_embeddings_2d = tsne.fit_transform(node_embeddings, )"
   ]
  },
  {
   "cell_type": "code",
   "execution_count": 23,
   "metadata": {},
   "outputs": [
    {
     "data": {
      "image/png": "[encoded data removed]",
      "text/plain": [
       "<Figure size 432x288 with 1 Axes>"
      ]
     },
     "metadata": {
      "needs_background": "light"
     },
     "output_type": "display_data"
    }
   ],
   "source": [
    "l = 0\n",
    "node_ids = []\n",
    "labels = []\n",
    "df_list = [ nodes_author_df, nodes_paper_df, nodes_term_df, nodes_conf_df]\n",
    "\n",
    "for _df in df_list:\n",
    "    _df = _df.reset_index()\n",
    "    col = list(_df.columns)[0]\n",
    "    k = list(_df[col])\n",
    "    node_ids.extend(k)\n",
    "    labels.extend([l]*len(_df))\n",
    "    l+=1\n",
    "\n",
    "\n",
    "plt.figure(figsize=(10, 8))\n",
    "%matplotlib inline \n",
    "node_colours = labels\n",
    "plt.scatter(\n",
    "    node_embeddings_2d[:, 0],\n",
    "    node_embeddings_2d[:, 1],\n",
    "    c=node_colours,\n",
    "    cmap=\"jet\",\n",
    "    alpha=0.75,\n",
    ")\n",
    "\n",
    "plt.show()"
   ]
  },
  {
   "cell_type": "code",
   "execution_count": 80,
   "metadata": {},
   "outputs": [],
   "source": [
    "tsne = TSNE(\n",
    "    n_components=3, \n",
    "    perplexity = 30.0, \n",
    "    early_exaggeration=25.0, \n",
    "    learning_rate=250\n",
    ")\n",
    "node_embeddings_3d = tsne.fit_transform(node_embeddings, )"
   ]
  },
  {
   "cell_type": "code",
   "execution_count": 81,
   "metadata": {},
   "outputs": [
    {
     "data": {
      "text/plain": [
       "<mpl_toolkits.mplot3d.art3d.Path3DCollection at 0x7f179699e290>"
      ]
     },
     "execution_count": 81,
     "metadata": {},
     "output_type": "execute_result"
    }
   ],
   "source": [
    "l = 0\n",
    "node_ids = []\n",
    "labels = []\n",
    "df_list = [ nodes_author_df, nodes_paper_df, nodes_term_df, nodes_conf_df]\n",
    "\n",
    "for _df in df_list:\n",
    "    _df = _df.reset_index()\n",
    "    col = list(_df.columns)[0]\n",
    "    k = list(_df[col])\n",
    "    node_ids.extend(k)\n",
    "    labels.extend([l]*len(_df))\n",
    "    l+=1\n",
    "\n",
    "\n",
    "from mpl_toolkits.mplot3d import Axes3D\n",
    "import matplotlib.pyplot as plt\n",
    "%matplotlib qt\n",
    "fig = plt.figure()\n",
    "ax = fig.add_subplot(111, projection='3d')\n",
    "\n",
    "node_colours = labels\n",
    "ax.scatter(\n",
    "    node_embeddings_3d[:, 0],\n",
    "    node_embeddings_3d[:, 1],\n",
    "    node_embeddings_3d[:, 2],\n",
    "    c=node_colours,\n",
    "    cmap=\"jet\",\n",
    "    alpha=0.75,\n",
    ")"
   ]
  },
  {
   "cell_type": "code",
   "execution_count": null,
   "metadata": {},
   "outputs": [],
   "source": []
  }
 ],
 "metadata": {
  "kernelspec": {
   "display_name": "gle",
   "language": "python",
   "name": "gle"
  },
  "language_info": {
   "codemirror_mode": {
    "name": "ipython",
    "version": 3
   },
   "file_extension": ".py",
   "mimetype": "text/x-python",
   "name": "python",
   "nbconvert_exporter": "python",
   "pygments_lexer": "ipython3",
   "version": "3.7.9"
  }
 },
 "nbformat": 4,
 "nbformat_minor": 4
}
